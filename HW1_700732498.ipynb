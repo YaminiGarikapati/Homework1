{
  "metadata": {
    "language_info": {
      "codemirror_mode": {
        "name": "python",
        "version": 3
      },
      "file_extension": ".py",
      "mimetype": "text/x-python",
      "name": "python",
      "nbconvert_exporter": "python",
      "pygments_lexer": "ipython3",
      "version": "3.8"
    },
    "kernelspec": {
      "name": "python",
      "display_name": "Python (Pyodide)",
      "language": "python"
    },
    "colab": {
      "provenance": [],
      "collapsed_sections": [],
      "include_colab_link": true
    }
  },
  "nbformat_minor": 0,
  "nbformat": 4,
  "cells": [
    {
      "cell_type": "markdown",
      "metadata": {
        "id": "view-in-github",
        "colab_type": "text"
      },
      "source": [
        "<a href=\"https://colab.research.google.com/github/YaminiGarikapati/Homework1/blob/main/HW1_700732498.ipynb\" target=\"_parent\"><img src=\"https://colab.research.google.com/assets/colab-badge.svg\" alt=\"Open In Colab\"/></a>"
      ]
    },
    {
      "cell_type": "code",
      "source": [
        "import statistics\n",
        "\n",
        "ages = [19, 22, 19, 24, 20, 25, 26, 24, 25, 24]\n",
        "#a)\n",
        "ages.sort() # sort() is used to order the values in a given string\n",
        "print(ages) \n",
        "print(\"Maximum value in the list\", max(ages))\n",
        "print(\"Minimum value in the list\", min(ages))\n",
        "#b)\n",
        "ages.append(min(ages)) # Adding minimum age to list\n",
        "ages.append(max(ages)) # Adding maximum age to list \n",
        "print(\"After Adding the max and min value\",ages)\n",
        "#c)\n",
        "P = 0\n",
        "for i in range(len(ages)):\n",
        "    P = P +ages[i]\n",
        "print(\"Average age is \",P/len(ages))\n",
        "# Average age of the above list\n",
        "#d)\n",
        "print(\"Median age is : % s \"\n",
        "        % (statistics.median(ages)))\n",
        "# Median of the list \n",
        "#e)\n",
        "print(\"Range  : \", max(ages)-min(ages))\n",
        "# Range of the list"
      ],
      "metadata": {
        "trusted": true,
        "id": "KVrbhbGnQ_mm",
        "outputId": "069e736b-da5c-4162-d599-713718bd1e10",
        "colab": {
          "base_uri": "https://localhost:8080/"
        }
      },
      "execution_count": 35,
      "outputs": [
        {
          "output_type": "stream",
          "name": "stdout",
          "text": [
            "[19, 19, 20, 22, 24, 24, 24, 25, 25, 26]\n",
            "Maximum value in the list 26\n",
            "Minimum value in the list 19\n",
            "After Adding the max and min value [19, 19, 20, 22, 24, 24, 24, 25, 25, 26, 19, 26]\n",
            "Average age is  22.75\n",
            "Median age is : 24.0 \n",
            "Range  :  7\n"
          ]
        }
      ]
    },
    {
      "cell_type": "code",
      "source": [
        "#2\n",
        "#a)\n",
        "dog = {} \n",
        "# A blank dictionary called dog is created\n",
        "#b)\n",
        "dog = {\"name\":\"\", \"color\":\"\", \"breed\":\"\", \"legs\":\"\", \"age\":\"\"}\n",
        "# Adding the above keys to the dog dictionary\n",
        "#c)\n",
        "student = { \"first_name\": 'Yamini', \"last_name\": 'Garikapati' , \"gender\": 'Female', \"age\": '24', \"marital status\": 'Single', \n",
        "           \"skills\":['Java','Azure','HTML'], \"country\":'India', \"city\": 'Guntur',  \"address\":'A.T agraharam'}\n",
        "# Created a student dictionary and added the values to the keys in dictionary\n",
        "#d)\n",
        "print(\"Student dictionary length is:\", len(student))\n",
        "# Student dictionary Length is printed\n",
        "#e)\n",
        "print(student.get('skills'))\n",
        "# Value of skills are printed\n",
        "#f)\n",
        "student['skills'].append(\"Security\") # Adding Skills to the list\n",
        "student['skills'].append(\"AWS\") # Adding Skills to the list\n",
        "#g)\n",
        "print(\"Dictionary keys list\", student.keys())\n",
        "# List of Dictionary keys are printed\n",
        "#h)\n",
        "print(\"Dictionary Values list\", student.values())\n",
        "# List of Dictionary values are printed\n"
      ],
      "metadata": {
        "trusted": true,
        "id": "uQ1r0hKbQ_mn",
        "outputId": "3a272c31-a097-4ec2-88ea-f1f125432c81",
        "colab": {
          "base_uri": "https://localhost:8080/"
        }
      },
      "execution_count": 36,
      "outputs": [
        {
          "output_type": "stream",
          "name": "stdout",
          "text": [
            "Student dictionary length is: 9\n",
            "['Java', 'Azure', 'HTML']\n",
            "Dictionary keys list dict_keys(['first_name', 'last_name', 'gender', 'age', 'marital status', 'skills', 'country', 'city', 'address'])\n",
            "Dictionary Values list dict_values(['Yamini', 'Garikapati', 'Female', '24', 'Single', ['Java', 'Azure', 'HTML', 'Security', 'AWS'], 'India', 'Guntur', 'A.T agraharam'])\n"
          ]
        }
      ]
    },
    {
      "cell_type": "code",
      "source": [
        "#3\n",
        "#a)\n",
        "brothers = (\"Pavan\", \"Venkat\", \"Surya\") \n",
        "sisters = (\"Soujanya\", \"Pranathi\")\n",
        "# A tuple of sister and brothers are created and names are included\n",
        "#b)\n",
        "siblings = brothers+sisters\n",
        "print(\"Siblings :\",siblings)\n",
        "# brothers and siblings are joined and assigned to siblings\n",
        "#c)\n",
        "y =  len(siblings)\n",
        "print(\"Siblings are: \",y)\n",
        "# The length of the siblings are\n",
        "#d)\n",
        "s = siblings + (\"Venkatesh\",\"Jyo\")\n",
        "# Siblings are modified added the father and mother names to the family_members\n",
        "Family_Members = s\n",
        "print(\"Family Members are\", s)\n",
        "# After modifying the siblings the family members are printed"
      ],
      "metadata": {
        "id": "oV13kVj-Q_mo",
        "colab": {
          "base_uri": "https://localhost:8080/"
        },
        "outputId": "38373a6b-37bd-417e-c0d4-fc0db9e7e5dc"
      },
      "execution_count": 20,
      "outputs": [
        {
          "output_type": "stream",
          "name": "stdout",
          "text": [
            "Siblings : ('Pavan', 'Venkat', 'Surya', 'Soujanya', 'Pranathi')\n",
            "Siblings are:  5\n",
            "Family Members are ('Pavan', 'Venkat', 'Surya', 'Soujanya', 'Pranathi', 'Venkatesh', 'Jyo')\n"
          ]
        }
      ]
    },
    {
      "cell_type": "code",
      "source": [
        "#4).\n",
        "it_companies = {'Facebook', 'Google', 'Microsoft', 'Apple', 'IBM', 'Oracle', 'Amazon'}\n",
        "A = {19, 22, 24, 20, 25, 26}\n",
        "B = {19, 22, 20, 25, 26, 24, 28, 27}\n",
        "age = [22, 19, 24, 25, 26, 24, 25, 24]\n",
        "\n",
        "#a)\n",
        "m = len(it_companies) #length of IT_companies\n",
        "print(\"Length of the IT_companies\", m)\n",
        "\n",
        "#b)\n",
        "it_companies.add('Twitter') # New company is added to the existing IT_companies\n",
        "print(\"IT_companies list after adding the new company\", it_companies)\n",
        "\n",
        "#c)\n",
        "new_companies = ['Intel','MindTree','ADM']\n",
        "it_companies.update(new_companies) #update() is used for updating the list\n",
        "print(\"After adding multiple IT_companies\", new_companies)\n",
        "\n",
        "#d)\n",
        "it_companies.remove('Google') #remove() is used to remove the item in the list\n",
        "print(\"It_Companies list after removing Google = \", it_companies)\n",
        "\n",
        "#e)\n",
        "print(\" \")\n",
        "\n",
        "#f)\n",
        "J = A.union(B) # union() it joins A and B sets\n",
        "print (\"Joined A and B are\", J)\n",
        "\n",
        "#g)\n",
        "I =A.intersection(B) #intersection() shows the common data on A and B\n",
        "print(\"After intersecting A and B \", I)\n",
        "\n",
        "#h)\n",
        "print(\" A subset to B are not\", A.issubset(B)) #issubset() Gives either A subset to B are not \n",
        "\n",
        "#i)\n",
        "print(\" Is A and B disjoint sets are not \",A.isdisjoint(B)) #isdisjoint() gives the disjoint set with boolean value\n",
        "\n",
        "#j)\n",
        "joined_1 = A.union(B) # A and B Joined\n",
        "joined_2 = B.union(A) # B and A Joined\n",
        "print(\" After joining A and B \", joined_1)\n",
        "print(\" After joining B and A \",joined_2)\n",
        "\n",
        "#k)\n",
        "sym_diff = A.symmetric_difference(B) \n",
        "print(\"The Symmetric difference between A and B are \", sym_diff)\n",
        "\n",
        "#L)\n",
        "del A\n",
        "del B\n",
        "# Deleting the sets\n",
        "\n",
        "\n",
        "#m)\n",
        "Age_Set = set(age)  # Converting from list to set\n",
        "print(\"Convering ages to the set\", Age_Set)\n",
        "print(\"Comparing length of the list and length of the set \",len(age)-len(Age_Set))"
      ],
      "metadata": {
        "colab": {
          "base_uri": "https://localhost:8080/"
        },
        "id": "YvMrBy0-t0tC",
        "outputId": "0f3f5418-8ffa-4c00-af66-47cd6197695d"
      },
      "execution_count": 25,
      "outputs": [
        {
          "output_type": "stream",
          "name": "stdout",
          "text": [
            "Length of the IT_companies 7\n",
            "IT_companies list after adding the new company {'Amazon', 'Google', 'Apple', 'Microsoft', 'IBM', 'Facebook', 'Oracle', 'Twitter'}\n",
            "After adding multiple IT_companies ['Intel', 'MindTree', 'ADM']\n",
            "It_Companies list after removing Google =  {'Amazon', 'Apple', 'Intel', 'ADM', 'Microsoft', 'IBM', 'MindTree', 'Facebook', 'Oracle', 'Twitter'}\n",
            " \n",
            "Joined A and B are {19, 20, 22, 24, 25, 26, 27, 28}\n",
            "After intersecting A and B  {19, 20, 22, 24, 25, 26}\n",
            " A subset to B are not True\n",
            " Is A and B disjoint sets are not  False\n",
            " After joining A and B  {19, 20, 22, 24, 25, 26, 27, 28}\n",
            " After joining B and A  {19, 20, 22, 24, 25, 26, 27, 28}\n",
            "The Symmetric difference between A and B are  {27, 28}\n",
            "Convering ages to the set {19, 22, 24, 25, 26}\n",
            "Comparing length of the list and length of the set  3\n"
          ]
        }
      ]
    },
    {
      "cell_type": "code",
      "source": [
        "#5\n",
        "\n",
        "Radius = 30\n",
        "\n",
        "#Area of a circle \n",
        "area_of_circle = 3.141 * Radius * Radius\n",
        "print(\"Area of the circle is: \",area_of_circle)\n",
        "\n",
        "#Circumference of the circle\n",
        "circum_of_circle = 2 * 3.141 * Radius \n",
        "print(\"Circumference of the circle is: \" ,circum_of_circle)\n",
        "\n",
        "Radius1 = int(input(\"Enter the radius value\"))\n",
        "Area = 3.141 * Radius1 * Radius1\n",
        "\n",
        "print(\"Radius of the given value = \",Radius1,\"\\nArea is: \",Area)"
      ],
      "metadata": {
        "colab": {
          "base_uri": "https://localhost:8080/"
        },
        "id": "mEVevRkYRhy7",
        "outputId": "44b0cf4c-8159-4f2e-c654-dd44dc80dbd2"
      },
      "execution_count": 26,
      "outputs": [
        {
          "output_type": "stream",
          "name": "stdout",
          "text": [
            "Area of the circle is:  2826.9\n",
            "Circumference of the circle is:  188.46\n",
            "Enter the radius value5\n",
            "Radius of the given value =  5 \n",
            "Area is:  78.525\n"
          ]
        }
      ]
    },
    {
      "cell_type": "code",
      "source": [
        "#6\n",
        "\n",
        "Quote = \"I am a teacher and I love to inspire and teach people\"\n",
        "\n",
        "# For getting the individual elements the string is splitted\n",
        "m = sentence.split(\" \") # m = splitting the words\n",
        "m_set = set(m)\n",
        "print(\"Sets are \",m_set)\n",
        "print(\"Number of unique words in the sets:\",len(m_set))"
      ],
      "metadata": {
        "trusted": true,
        "id": "ePcuyZFCQ_mo",
        "outputId": "0023b9af-cf95-47fd-9dda-b6e8700549e5",
        "colab": {
          "base_uri": "https://localhost:8080/"
        }
      },
      "execution_count": 30,
      "outputs": [
        {
          "output_type": "stream",
          "name": "stdout",
          "text": [
            "Sets are  {'am', 'to', 'people', 'inspire', 'a', 'I', 'teach', 'and', 'teacher', 'love'}\n",
            "Number of unique words in the sets: 10\n"
          ]
        }
      ]
    },
    {
      "cell_type": "code",
      "source": [
        "#7\n",
        "print(\"Name\\tAge\\tCountry\\tCity\\nAsabeneh\\t250\\tFinland\\tHelsinki\")\n"
      ],
      "metadata": {
        "trusted": true,
        "colab": {
          "base_uri": "https://localhost:8080/"
        },
        "id": "K_NgZJBKQ_mp",
        "outputId": "65a501b4-9f84-48a8-e5b3-9329ac0b30cc"
      },
      "execution_count": null,
      "outputs": [
        {
          "output_type": "stream",
          "name": "stdout",
          "text": [
            "Name\tAge\tCountry\tCity\n",
            "Asabeneh\t250\tFinland\tHelsinki\n"
          ]
        }
      ]
    },
    {
      "cell_type": "code",
      "source": [
        "#8\n",
        "radius = 10\n",
        "area = 3.14 * radius ** 2\n",
        "\n",
        "print('The area of a circle with radius',radius,'is %.0f' %(area),'meters square.')"
      ],
      "metadata": {
        "id": "X3azmNcBQ_mp",
        "colab": {
          "base_uri": "https://localhost:8080/"
        },
        "outputId": "e25101d6-6553-43ed-b2ca-353f96637cf5"
      },
      "execution_count": 28,
      "outputs": [
        {
          "output_type": "stream",
          "name": "stdout",
          "text": [
            "The area of a circle with radius 10 is 314 meters square.\n"
          ]
        }
      ]
    },
    {
      "cell_type": "code",
      "source": [
        "# Input is taken dynamically\n",
        "L = int(input('Enter the length'))\n",
        "\n",
        "# creating two lists one for lbs and other for kgs\n",
        "list = []\n",
        "con_list =[]\n",
        "for i in range (0,L,1) :\n",
        "    S =  float(input('Enter the value'))\n",
        "    list.append(S)\n",
        "\n",
        "for i in range (0,L,1):\n",
        "      T = list[i] * 0.453592\n",
        "      con_list.append(round(T,2))\n",
        "print(\"\\n After converting into kgs \",con_list)"
      ],
      "metadata": {
        "colab": {
          "base_uri": "https://localhost:8080/"
        },
        "id": "W219fEpoSTWD",
        "outputId": "9c0e01f2-856e-468c-f987-87b5fff28a61"
      },
      "execution_count": 34,
      "outputs": [
        {
          "output_type": "stream",
          "name": "stdout",
          "text": [
            "Enter the length4\n",
            "Enter the value150\n",
            "Enter the value155\n",
            "Enter the value145\n",
            "Enter the value148\n",
            "\n",
            " After converting into kgs  [68.04, 70.31, 65.77, 67.13]\n"
          ]
        }
      ]
    }
  ]
}